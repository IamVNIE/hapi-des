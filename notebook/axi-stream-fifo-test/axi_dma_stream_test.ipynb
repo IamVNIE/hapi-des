{
 "cells": [
  {
   "cell_type": "markdown",
   "metadata": {
    "collapsed": false
   },
   "source": [
    "# DMA AXI Stream FIFO Test for PYNQ"
   ]
  },
  {
   "cell_type": "markdown",
   "metadata": {
    "collapsed": true
   },
   "source": [
    "# DMA Master connected to S_AXI_HP2 Port of Zynq System via AXI Interconnect (axi_mem_intercon) used by tracebufer_pmods/audrino\n",
    "#DMA S_AXI_LITE port connected to AXI Interconnect (processing_system7_0_axi_periph)\n",
    "#System Block diagram at: https://github.com/IamVNIE/hapi-des/blob/master/notebook/axi-stream-fifo-test/pynq.xps\n",
    "#DMA with FIFO created using: http://www.fpgadeveloper.com/2014/08/using-the-axi-dma-in-vivado.html\n",
    "#Thanks to Peter Ogden at Xilinx for the solution for DMA buffer accesses from Python"
   ]
  },
  {
   "cell_type": "code",
   "execution_count": 1,
   "metadata": {
    "collapsed": false
   },
   "outputs": [
    {
     "data": {
      "text/plain": [
       "True"
      ]
     },
     "execution_count": 1,
     "metadata": {},
     "output_type": "execute_result"
    }
   ],
   "source": [
    "from pynq import Overlay\n",
    "ol = Overlay(\"axi_stream.bit\")\n",
    "\n",
    "ol.download()\n",
    "ol.bitstream.timestamp\n",
    "\n",
    "from pynq import PL\n",
    "PL.bitfile_name\n",
    "\n",
    "ol.is_loaded()"
   ]
  },
  {
   "cell_type": "markdown",
   "metadata": {},
   "source": [
    "# Testing dma class provided in Base PYNQ  "
   ]
  },
  {
   "cell_type": "code",
   "execution_count": 2,
   "metadata": {
    "collapsed": false
   },
   "outputs": [
    {
     "name": "stdout",
     "output_type": "stream",
     "text": [
      "0x40400000\n"
     ]
    }
   ],
   "source": [
    "from pynq.drivers.dma import DMA\n",
    "dma_base = int(PL.ip_dict[\"SEG_axi_dma_0_Reg2\"][0],16)\n",
    "print(hex(dma_base))\n",
    "dma = DMA(dma_base, direction=3)"
   ]
  },
  {
   "cell_type": "code",
   "execution_count": 10,
   "metadata": {
    "collapsed": false
   },
   "outputs": [
    {
     "name": "stdout",
     "output_type": "stream",
     "text": [
      "TOTAL TIME TO SEND -  32000000 BITS =  0.06726622581481934\n",
      "TOTAL TIME TO RECV -  32000000 BITS =  0.0007665157318115234\n",
      "TX BW =  475721650.98268557 bps |  475.72165098268556 Mbps |  0.47572165098268554 Gbps\n",
      "RX BW =  41747349300.15552 bps |  41747.34930015552 Mbps |  41.74734930015552 Gbps\n",
      "TOTAL BW =  42223.0709511382 Mbps |  42.223070951138205 Gbps\n"
     ]
    }
   ],
   "source": [
    "import numpy as np\n",
    "from random import randint\n",
    "import time\n",
    "data2Transmit=[randint(0,x) for x in range(1000000) ]\n",
    "size=int(len(data2Transmit)/2*8)\n",
    "dma.create_buf(size)\n",
    "from pynq.drivers.dma import ffi\n",
    "buf = ffi.buffer(dma.buf, size)\n",
    "view = np.frombuffer(buf, np.int32,-1)\n",
    "#print(view)\n",
    "view[:] = data2Transmit\n",
    "#Uncomment the following line to see what input values are transferred to DMA\n",
    "#print(view)\n",
    "tx_strt = time.time()\n",
    "result = view.copy()\n",
    "tx_done=time.time()\n",
    "rx_strt = time.time()\n",
    "vin = dma.get_buf()\n",
    "rx_done=time.time()\n",
    "## ----For Statistics --- ##\n",
    "rx= rx_done - rx_strt\n",
    "tx= tx_done - tx_strt\n",
    "txLen=len(data2Transmit)*32\n",
    "txbps=len(data2Transmit)*32/tx\n",
    "rxbps=len(data2Transmit)*32/rx\n",
    "txMbps=(len(data2Transmit)*32/tx)/1e6\n",
    "rxMbps=(len(data2Transmit)*32/rx)/1e6\n",
    "txGbps=(len(data2Transmit)*32/tx)/1e9\n",
    "rxGbps=(len(data2Transmit)*32/rx)/1e9\n",
    "print(\"TOTAL TIME TO SEND - \",txLen, \"BITS = \", tx)\n",
    "print(\"TOTAL TIME TO RECV - \",txLen, \"BITS = \", rx)\n",
    "print(\"TX BW = \",txbps, \"bps | \",txMbps,\"Mbps | \",txGbps,\"Gbps\")\n",
    "print(\"RX BW = \",rxbps, \"bps | \",rxMbps,\"Mbps | \",rxGbps,\"Gbps\")\n",
    "print(\"TOTAL BW = \",txMbps+rxMbps,\"Mbps | \",txGbps+rxGbps,\"Gbps\")\n",
    "\n",
    "dataRecieved=[]\n",
    "\n",
    "for i in range(len(view)):\n",
    "    dataRecieved.append(vin[i])\n",
    "#Uncomment the following line to see what output values are transferred from DMA \n",
    "#print(dataRecieved)\n"
   ]
  }
 ],
 "metadata": {
  "kernelspec": {
   "display_name": "Python 3",
   "language": "python",
   "name": "python3"
  },
  "language_info": {
   "codemirror_mode": {
    "name": "ipython",
    "version": 3
   },
   "file_extension": ".py",
   "mimetype": "text/x-python",
   "name": "python",
   "nbconvert_exporter": "python",
   "pygments_lexer": "ipython3",
   "version": "3.4.3+"
  }
 },
 "nbformat": 4,
 "nbformat_minor": 1
}
