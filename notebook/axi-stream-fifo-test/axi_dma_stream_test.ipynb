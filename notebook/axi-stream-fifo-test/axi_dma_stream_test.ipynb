{
 "cells": [
  {
   "cell_type": "markdown",
   "metadata": {
    "collapsed": false
   },
   "source": [
    "# DMA AXI Stream FIFO Test for PYNQ"
   ]
  },
  {
   "cell_type": "markdown",
   "metadata": {
    "collapsed": true
   },
   "source": [
    "# DMA Master connected to S_AXI_HP2 Port of Zynq System via AXI Interconnect (axi_mem_intercon) used by tracebufer_pmods/audrino\n",
    "#DMA S_AXI_LITE port connected to AXI Interconnect (processing_system7_0_axi_periph)\n",
    "#System Block diagram at: https://github.com/IamVNIE/hapi-des/blob/master/notebook/axi-stream-fifo-test/pynq.xps\n",
    "#DMA with FIFO created using: http://www.fpgadeveloper.com/2014/08/using-the-axi-dma-in-vivado.html\n",
    "#Thanks to Peter Ogden at Xilinx for the solution for DMA buffer accesses from Python"
   ]
  },
  {
   "cell_type": "code",
   "execution_count": 14,
   "metadata": {
    "collapsed": false
   },
   "outputs": [
    {
     "data": {
      "text/plain": [
       "True"
      ]
     },
     "execution_count": 14,
     "metadata": {},
     "output_type": "execute_result"
    }
   ],
   "source": [
    "from pynq import Overlay\n",
    "ol = Overlay(\"axi_stream.bit\")\n",
    "#ol = Overlay(\"axis_inc_test.bit\")\n",
    "\n",
    "ol.download()\n",
    "ol.bitstream.timestamp\n",
    "\n",
    "from pynq import PL\n",
    "PL.bitfile_name\n",
    "\n",
    "ol.is_loaded()"
   ]
  },
  {
   "cell_type": "markdown",
   "metadata": {},
   "source": [
    "# Testing dma class provided in Base PYNQ  "
   ]
  },
  {
   "cell_type": "code",
   "execution_count": 15,
   "metadata": {
    "collapsed": false
   },
   "outputs": [
    {
     "name": "stdout",
     "output_type": "stream",
     "text": [
      "0x40400000\n",
      "phyAddress = 0x40400000\n",
      "phyAddress = 0x40400000\n",
      "{'Mm2SDataWidth': 32, 'S2MmDataWidth': 64, 'DeviceId': 5, 'HasStsCntrlStrm': 0, 'MicroDmaMode': 0, 'BaseAddr': <cdata 'uint32_t *' 0x30adc000>, 'Mm2SBurstSize': 16, 'S2MmNumChannels': 1, 'HasMm2S': 1, 'HasMm2SDRE': 0, 'S2MmBurstSize': 64, 'HasS2Mm': 0, 'HasSg': 0, 'AddrWidth': 32, 'Mm2sNumChannels': 1, 'HasS2MmDRE': 0}\n",
      "{'Mm2SDataWidth': 32, 'S2MmDataWidth': 64, 'DeviceId': 6, 'HasStsCntrlStrm': 0, 'MicroDmaMode': 0, 'BaseAddr': <cdata 'uint32_t *' 0x30acc000>, 'Mm2SBurstSize': 16, 'S2MmNumChannels': 1, 'HasMm2S': 0, 'HasMm2SDRE': 0, 'S2MmBurstSize': 64, 'HasS2Mm': 1, 'HasSg': 0, 'AddrWidth': 32, 'Mm2sNumChannels': 1, 'HasS2MmDRE': 0}\n"
     ]
    }
   ],
   "source": [
    "from pynq.drivers.dma import DMA\n",
    "dma_base = int(PL.ip_dict[\"SEG_axi_dma_0_Reg2\"][0],16)\n",
    "print(hex(dma_base))\n",
    "TXdma = DMA(0x40400000, direction=0)\n",
    "RXdma = DMA(0x40400000, direction=1)\n",
    "#---- GET Data from PL ---#\n",
    "print(TXdma.Configuration)\n",
    "print(RXdma.Configuration)"
   ]
  },
  {
   "cell_type": "code",
   "execution_count": 16,
   "metadata": {
    "collapsed": false
   },
   "outputs": [
    {
     "name": "stdout",
     "output_type": "stream",
     "text": [
      "bufPhyAddr  0x1684a000\n",
      "bufPhyAddr  0x1684b000\n",
      "[0 0 0]\n",
      "[1 2 3]\n",
      "direction = 0\n",
      "direction = 1\n"
     ]
    },
    {
     "ename": "TimeoutError",
     "evalue": "DMA wait timed out.",
     "output_type": "error",
     "traceback": [
      "\u001b[0;31m---------------------------------------------------------------------------\u001b[0m",
      "\u001b[0;31mTimeoutError\u001b[0m                              Traceback (most recent call last)",
      "\u001b[0;32m<ipython-input-16-9b63c17adeb0>\u001b[0m in \u001b[0;36m<module>\u001b[0;34m()\u001b[0m\n\u001b[1;32m     26\u001b[0m \u001b[0mrx_done\u001b[0m\u001b[0;34m=\u001b[0m\u001b[0mtime\u001b[0m\u001b[0;34m.\u001b[0m\u001b[0mtime\u001b[0m\u001b[0;34m(\u001b[0m\u001b[0;34m)\u001b[0m\u001b[0;34m\u001b[0m\u001b[0m\n\u001b[1;32m     27\u001b[0m \u001b[0mTXdma\u001b[0m\u001b[0;34m.\u001b[0m\u001b[0mwait\u001b[0m\u001b[0;34m(\u001b[0m\u001b[0;34m)\u001b[0m\u001b[0;34m\u001b[0m\u001b[0m\n\u001b[0;32m---> 28\u001b[0;31m \u001b[0mRXdma\u001b[0m\u001b[0;34m.\u001b[0m\u001b[0mwait\u001b[0m\u001b[0;34m(\u001b[0m\u001b[0;34m)\u001b[0m\u001b[0;34m\u001b[0m\u001b[0m\n\u001b[0m",
      "\u001b[0;32m/usr/local/lib/python3.4/dist-packages/pynq/drivers/dma.py\u001b[0m in \u001b[0;36mwait\u001b[0;34m(self, wait_timeout)\u001b[0m\n\u001b[1;32m    442\u001b[0m         \u001b[0;32mwith\u001b[0m \u001b[0mtimeout\u001b[0m\u001b[0;34m(\u001b[0m\u001b[0mseconds\u001b[0m \u001b[0;34m=\u001b[0m \u001b[0mwait_timeout\u001b[0m\u001b[0;34m,\u001b[0m \u001b[0merror_message\u001b[0m \u001b[0;34m=\u001b[0m \u001b[0mError\u001b[0m\u001b[0;34m)\u001b[0m\u001b[0;34m:\u001b[0m\u001b[0;34m\u001b[0m\u001b[0m\n\u001b[1;32m    443\u001b[0m             \u001b[0;32mwhile\u001b[0m \u001b[0;32mTrue\u001b[0m\u001b[0;34m:\u001b[0m\u001b[0;34m\u001b[0m\u001b[0m\n\u001b[0;32m--> 444\u001b[0;31m                 \u001b[0;32mif\u001b[0m \u001b[0mlibdma\u001b[0m\u001b[0;34m.\u001b[0m\u001b[0mXAxiDma_Busy\u001b[0m\u001b[0;34m(\u001b[0m\u001b[0mself\u001b[0m\u001b[0;34m.\u001b[0m\u001b[0mDMAengine\u001b[0m\u001b[0;34m,\u001b[0m\u001b[0mself\u001b[0m\u001b[0;34m.\u001b[0m\u001b[0mdirection\u001b[0m\u001b[0;34m)\u001b[0m \u001b[0;34m==\u001b[0m \u001b[0;36m0\u001b[0m\u001b[0;34m:\u001b[0m\u001b[0;34m\u001b[0m\u001b[0m\n\u001b[0m\u001b[1;32m    445\u001b[0m                     \u001b[0;32mbreak\u001b[0m\u001b[0;34m\u001b[0m\u001b[0m\n\u001b[1;32m    446\u001b[0m \u001b[0;34m\u001b[0m\u001b[0m\n",
      "\u001b[0;32m/usr/local/lib/python3.4/dist-packages/pynq/drivers/dma.py\u001b[0m in \u001b[0;36mhandle_timeout\u001b[0;34m(self, signum, frame)\u001b[0m\n\u001b[1;32m    173\u001b[0m \u001b[0;34m\u001b[0m\u001b[0m\n\u001b[1;32m    174\u001b[0m     \u001b[0;32mdef\u001b[0m \u001b[0mhandle_timeout\u001b[0m\u001b[0;34m(\u001b[0m\u001b[0mself\u001b[0m\u001b[0;34m,\u001b[0m \u001b[0msignum\u001b[0m\u001b[0;34m,\u001b[0m \u001b[0mframe\u001b[0m\u001b[0;34m)\u001b[0m\u001b[0;34m:\u001b[0m\u001b[0;34m\u001b[0m\u001b[0m\n\u001b[0;32m--> 175\u001b[0;31m         \u001b[0;32mraise\u001b[0m \u001b[0mTimeoutError\u001b[0m\u001b[0;34m(\u001b[0m\u001b[0mself\u001b[0m\u001b[0;34m.\u001b[0m\u001b[0merror_message\u001b[0m\u001b[0;34m)\u001b[0m\u001b[0;34m\u001b[0m\u001b[0m\n\u001b[0m\u001b[1;32m    176\u001b[0m \u001b[0;34m\u001b[0m\u001b[0m\n\u001b[1;32m    177\u001b[0m     \u001b[0;32mdef\u001b[0m \u001b[0m__enter__\u001b[0m\u001b[0;34m(\u001b[0m\u001b[0mself\u001b[0m\u001b[0;34m)\u001b[0m\u001b[0;34m:\u001b[0m\u001b[0;34m\u001b[0m\u001b[0m\n",
      "\u001b[0;31mTimeoutError\u001b[0m: DMA wait timed out."
     ]
    }
   ],
   "source": [
    "import numpy as np\n",
    "from random import randint\n",
    "import time\n",
    "from pynq.drivers.dma import ffi\n",
    "\n",
    "#data2Transmit=[randint(0,x) for x in range(50000) ]\n",
    "data2Transmit=[1,2,3]\n",
    "size=int(len(data2Transmit)/2*8)\n",
    "TXdma.create_buf(size)\n",
    "RXdma.create_buf(size)\n",
    "buf = ffi.buffer(TXdma.buf, size)\n",
    "view = np.frombuffer(buf, np.int32,-1)\n",
    "print(view)\n",
    "view[:] = data2Transmit\n",
    "result = view.copy()\n",
    "print(result)\n",
    "\n",
    "# Sending data from PS-PL\n",
    "tx_strt = time.time()\n",
    "dma.transfer(size,direction=0)\n",
    "#dma.wait()  #-- Waiting for transfer to complete always times out with error\n",
    "tx_done=time.time()\n",
    "# Recieve data from PL-PS\n",
    "rx_strt = time.time()\n",
    "RXdma.transfer(size,direction=1) \n",
    "rx_done=time.time()\n",
    "TXdma.wait()\n",
    "RXdma.wait()"
   ]
  },
  {
   "cell_type": "code",
   "execution_count": 17,
   "metadata": {
    "collapsed": false
   },
   "outputs": [
    {
     "name": "stdout",
     "output_type": "stream",
     "text": [
      "[0, 0, 0]\n"
     ]
    }
   ],
   "source": [
    "# Check if transmitted values are same as recieved values (Its just a FIFO attached to DMA)\n",
    "vin = RXdma.get_buf()\n",
    "\n",
    "dataRecieved=[]\n",
    "\n",
    "for i in range(len(view)):\n",
    "    dataRecieved.append(vin[i])\n",
    "print(dataRecieved[0:10])\n"
   ]
  },
  {
   "cell_type": "code",
   "execution_count": 18,
   "metadata": {
    "collapsed": false
   },
   "outputs": [
    {
     "name": "stdout",
     "output_type": "stream",
     "text": [
      "TOTAL TIME TO SEND -  96 BITS =  0.0010361671447753906\n",
      "TOTAL TIME TO RECV -  96 BITS =  0.000934600830078125\n",
      "TX BW =  92649.14496088357 bps |  0.09264914496088357 Mbps |  9.264914496088357e-05 Gbps\n",
      "RX BW =  102717.64897959183 bps |  0.10271764897959183 Mbps |  0.00010271764897959183 Gbps\n",
      "TOTAL BW =  0.1953667939404754 Mbps |  0.00019536679394047541 Gbps\n"
     ]
    }
   ],
   "source": [
    "## ----For Statistics --- ##\n",
    "rx= rx_done - rx_strt\n",
    "tx= tx_done - tx_strt\n",
    "txLen=len(data2Transmit)*32\n",
    "txbps=len(data2Transmit)*32/tx\n",
    "rxbps=len(data2Transmit)*32/rx\n",
    "txMbps=(len(data2Transmit)*32/tx)/1e6\n",
    "rxMbps=(len(data2Transmit)*32/rx)/1e6\n",
    "txGbps=(len(data2Transmit)*32/tx)/1e9\n",
    "rxGbps=(len(data2Transmit)*32/rx)/1e9\n",
    "print(\"TOTAL TIME TO SEND - \",txLen, \"BITS = \", tx)\n",
    "print(\"TOTAL TIME TO RECV - \",txLen, \"BITS = \", rx)\n",
    "print(\"TX BW = \",txbps, \"bps | \",txMbps,\"Mbps | \",txGbps,\"Gbps\")\n",
    "print(\"RX BW = \",rxbps, \"bps | \",rxMbps,\"Mbps | \",rxGbps,\"Gbps\")\n",
    "print(\"TOTAL BW = \",txMbps+rxMbps,\"Mbps | \",txGbps+rxGbps,\"Gbps\")\n"
   ]
  },
  {
   "cell_type": "code",
   "execution_count": null,
   "metadata": {
    "collapsed": true
   },
   "outputs": [],
   "source": []
  }
 ],
 "metadata": {
  "kernelspec": {
   "display_name": "Python 3",
   "language": "python",
   "name": "python3"
  },
  "language_info": {
   "codemirror_mode": {
    "name": "ipython",
    "version": 3
   },
   "file_extension": ".py",
   "mimetype": "text/x-python",
   "name": "python",
   "nbconvert_exporter": "python",
   "pygments_lexer": "ipython3",
   "version": "3.4.3+"
  }
 },
 "nbformat": 4,
 "nbformat_minor": 1
}
