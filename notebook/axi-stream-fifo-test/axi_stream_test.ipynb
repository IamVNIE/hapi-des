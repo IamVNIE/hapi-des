{
 "cells": [
  {
   "cell_type": "code",
   "execution_count": 50,
   "metadata": {
    "collapsed": false
   },
   "outputs": [
    {
     "data": {
      "text/plain": [
       "True"
      ]
     },
     "execution_count": 50,
     "metadata": {},
     "output_type": "execute_result"
    }
   ],
   "source": [
    "from pynq import Overlay\n",
    "ol = Overlay(\"axi_stream.bit\")\n",
    "\n",
    "ol.download()\n",
    "ol.bitstream.timestamp\n",
    "\n",
    "from pynq import PL\n",
    "PL.bitfile_name\n",
    "\n",
    "ol.is_loaded()"
   ]
  },
  {
   "cell_type": "code",
   "execution_count": 32,
   "metadata": {
    "collapsed": false
   },
   "outputs": [],
   "source": [
    "import time\n",
    "import math\n",
    "from pynq import MMIO\n",
    "axis = MMIO(0x40400000,0x00010000)"
   ]
  },
  {
   "cell_type": "code",
   "execution_count": 51,
   "metadata": {
    "collapsed": false
   },
   "outputs": [
    {
     "data": {
      "text/plain": [
       "{'SEG_DES_MULTICORE_0_S00_AXI_reg': ['0x43C40000', '0x00010000', None],\n",
       " 'SEG_axi_dma_0_Reg': ['0x80400000', '0x00010000', None],\n",
       " 'SEG_axi_dma_0_Reg1': ['0x80410000', '0x00010000', None],\n",
       " 'SEG_axi_dma_0_Reg2': ['0x40400000', '0x00010000', None],\n",
       " 'SEG_axi_dynclk_0_reg0': ['0x43C10000', '0x00010000', None],\n",
       " 'SEG_axi_gpio_video_Reg': ['0x41220000', '0x00010000', None],\n",
       " 'SEG_axi_vdma_0_Reg': ['0x43000000', '0x00010000', None],\n",
       " 'SEG_btns_gpio_Reg': ['0x41210000', '0x00010000', None],\n",
       " 'SEG_d_axi_pdm_1_S_AXI_reg': ['0x43C00000', '0x00010000', None],\n",
       " 'SEG_hdmi_out_hpd_video_Reg': ['0x41230000', '0x00010000', None],\n",
       " 'SEG_mb_bram_ctrl_1_Mem0': ['0x40000000', '0x00010000', None],\n",
       " 'SEG_mb_bram_ctrl_2_Mem0': ['0x42000000', '0x00010000', None],\n",
       " 'SEG_mb_bram_ctrl_3_Mem0': ['0x44000000', '0x00010000', None],\n",
       " 'SEG_rgbled_gpio_Reg': ['0x41240000', '0x00010000', None],\n",
       " 'SEG_swsleds_gpio_Reg': ['0x41200000', '0x00010000', None],\n",
       " 'SEG_trace_cntrl_0_Reg': ['0x83C00000', '0x00010000', None],\n",
       " 'SEG_trace_cntrl_0_Reg2': ['0x83C10000', '0x00010000', None],\n",
       " 'SEG_v_tc_0_Reg': ['0x43C20000', '0x00010000', None],\n",
       " 'SEG_v_tc_1_Reg': ['0x43C30000', '0x00010000', None]}"
      ]
     },
     "execution_count": 51,
     "metadata": {},
     "output_type": "execute_result"
    }
   ],
   "source": [
    "ol.ip_dict"
   ]
  },
  {
   "cell_type": "code",
   "execution_count": 61,
   "metadata": {
    "collapsed": false
   },
   "outputs": [
    {
     "name": "stdout",
     "output_type": "stream",
     "text": [
      "0x10002\n",
      "0x10009\n"
     ]
    }
   ],
   "source": [
    "axis.write(0,0)\n",
    "print(hex(axis.read(0)))\n",
    "axis.write(4,0x55)\n",
    "print(hex(axis.read(4)))"
   ]
  },
  {
   "cell_type": "code",
   "execution_count": 58,
   "metadata": {
    "collapsed": false
   },
   "outputs": [
    {
     "name": "stdout",
     "output_type": "stream",
     "text": [
      "LOC 0-->0x10002\n",
      "LOC 4-->0x10009\n",
      "LOC 8-->0x0\n",
      "LOC 12-->0x0\n",
      "LOC 16-->0x0\n",
      "LOC 20-->0x0\n",
      "LOC 24-->0x0\n",
      "LOC 28-->0x0\n",
      "LOC 32-->0x0\n",
      "LOC 36-->0x0\n",
      "LOC 40-->0x0\n",
      "LOC 44-->0x3\n",
      "LOC 48-->0x10002\n",
      "LOC 52-->0x10009\n",
      "LOC 56-->0x80000000\n",
      "LOC 60-->0x0\n",
      "LOC 64-->0x80000000\n",
      "LOC 68-->0x0\n",
      "LOC 72-->0x0\n",
      "LOC 76-->0x0\n",
      "LOC 80-->0x0\n",
      "LOC 84-->0x0\n",
      "LOC 88-->0x0\n",
      "LOC 92-->0x0\n",
      "LOC 96-->0x0\n",
      "LOC 100-->0x0\n",
      "LOC 104-->0x0\n",
      "LOC 108-->0x0\n",
      "LOC 112-->0x0\n",
      "LOC 116-->0x0\n",
      "LOC 120-->0x0\n",
      "LOC 124-->0x0\n",
      "LOC 128-->0x0\n",
      "LOC 132-->0x0\n",
      "LOC 136-->0x0\n",
      "LOC 140-->0x0\n",
      "LOC 144-->0x0\n",
      "LOC 148-->0x0\n",
      "LOC 152-->0x0\n",
      "LOC 156-->0x0\n",
      "LOC 160-->0x0\n",
      "LOC 164-->0x0\n",
      "LOC 168-->0x0\n",
      "LOC 172-->0x0\n",
      "LOC 176-->0x0\n",
      "LOC 180-->0x0\n",
      "LOC 184-->0x0\n",
      "LOC 188-->0x0\n",
      "LOC 192-->0x0\n",
      "LOC 196-->0x0\n"
     ]
    }
   ],
   "source": [
    "#axis = MMIO(0x80400000,0x00010000) #Trace Buffer SEG_axi_dma_0_Reg ['0x80400000', '0x00010000', None]\n",
    "axis = MMIO(0x40400000,0x00010000) #DMA with FIFO Buffer 'SEG_axi_dma_0_Reg2': ['0x40400000', '0x00010000', None]\n",
    "\n",
    "for i in range(0,50):\n",
    "    axis.write((i)*4,0x80000000+i)\n",
    "for j in range(0,50):\n",
    "    print(\"LOC \"+ str(j*4)+ \"-->\" +str(hex(axis.read((j)*4))))"
   ]
  },
  {
   "cell_type": "code",
   "execution_count": 54,
   "metadata": {
    "collapsed": false
   },
   "outputs": [
    {
     "name": "stdout",
     "output_type": "stream",
     "text": [
      "LOC 0-->0x80000000\n",
      "LOC 4-->0x80000000\n",
      "LOC 8-->0x80000000\n",
      "LOC 12-->0x80000000\n",
      "LOC 16-->0x80000000\n",
      "LOC 20-->0xc72d49e5\n",
      "LOC 24-->0xf2a311c8\n",
      "LOC 28-->0x80000000\n",
      "LOC 32-->0x80000000\n",
      "LOC 36-->0x80000000\n",
      "LOC 40-->0x80000000\n",
      "LOC 44-->0xc72d49e5\n",
      "LOC 48-->0xf2a311c8\n",
      "LOC 52-->0x80000000\n",
      "LOC 56-->0x80000000\n",
      "LOC 60-->0x80000000\n",
      "LOC 64-->0x80000000\n",
      "LOC 68-->0xc72d49e5\n",
      "LOC 72-->0xf2a311c8\n",
      "LOC 76-->0x80000000\n",
      "LOC 80-->0x80000000\n",
      "LOC 84-->0x80000000\n",
      "LOC 88-->0x80000000\n",
      "LOC 92-->0xc72d49e5\n",
      "LOC 96-->0xf2a311c8\n",
      "LOC 100-->0x80000000\n",
      "LOC 104-->0x80000000\n",
      "LOC 108-->0x80000000\n",
      "LOC 112-->0x80000000\n",
      "LOC 116-->0x0\n",
      "LOC 120-->0x0\n",
      "LOC 124-->0x80000000\n",
      "LOC 128-->0x80000000\n",
      "LOC 132-->0x80000000\n",
      "LOC 136-->0x80000000\n",
      "LOC 140-->0x80000000\n",
      "LOC 144-->0x80000000\n",
      "LOC 148-->0xc72d49e5\n",
      "LOC 152-->0xf2a311c8\n",
      "LOC 156-->0x80000000\n",
      "LOC 160-->0x80000000\n",
      "LOC 164-->0x80000000\n",
      "LOC 168-->0x80000000\n",
      "LOC 172-->0xc72d49e5\n",
      "LOC 176-->0xf2a311c8\n",
      "LOC 180-->0x80000000\n",
      "LOC 184-->0x80000000\n",
      "LOC 188-->0x80000000\n",
      "LOC 192-->0x80000000\n",
      "LOC 196-->0xc72d49e5\n"
     ]
    }
   ],
   "source": [
    "#Testing AXI-Lite Interface connected to DES Accelerator\n",
    "mmio = MMIO(0x43C40000,0x00010000)\n",
    "for i in range(0,50):\n",
    "    mmio.write((i)*4,0x80000000)\n",
    "for j in range(0,50):\n",
    "    print(\"LOC \"+ str(j*4)+ \"-->\" +str(hex(mmio.read((j)*4))))"
   ]
  },
  {
   "cell_type": "code",
   "execution_count": null,
   "metadata": {
    "collapsed": true
   },
   "outputs": [],
   "source": []
  }
 ],
 "metadata": {
  "kernelspec": {
   "display_name": "Python 3",
   "language": "python",
   "name": "python3"
  },
  "language_info": {
   "codemirror_mode": {
    "name": "ipython",
    "version": 3
   },
   "file_extension": ".py",
   "mimetype": "text/x-python",
   "name": "python",
   "nbconvert_exporter": "python",
   "pygments_lexer": "ipython3",
   "version": "3.4.3+"
  }
 },
 "nbformat": 4,
 "nbformat_minor": 1
}
