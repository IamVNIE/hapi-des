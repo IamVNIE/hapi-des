{
 "cells": [
  {
   "cell_type": "code",
   "execution_count": 1,
   "metadata": {
    "collapsed": false
   },
   "outputs": [
    {
     "data": {
      "text/plain": [
       "True"
      ]
     },
     "execution_count": 1,
     "metadata": {},
     "output_type": "execute_result"
    }
   ],
   "source": [
    "from pynq import Overlay\n",
    "ol = Overlay(\"axi_stream.bit\")\n",
    "\n",
    "ol.download()\n",
    "ol.bitstream.timestamp\n",
    "\n",
    "from pynq import PL\n",
    "PL.bitfile_name\n",
    "\n",
    "ol.is_loaded()"
   ]
  },
  {
   "cell_type": "code",
   "execution_count": 2,
   "metadata": {
    "collapsed": false
   },
   "outputs": [],
   "source": [
    "import time\n",
    "import math\n",
    "from pynq import MMIO\n",
    "axis = MMIO(0x40400000,0x00010000)\n",
    "MM2S_CONTROL_REGISTER=0x00\n",
    "MM2S_STATUS_REGISTER=0x04\n",
    "MM2S_START_ADDRESS=0x18\n",
    "MM2S_LENGTH=0x28\n",
    "\n",
    "S2MM_CONTROL_REGISTER=0x30\n",
    "S2MM_STATUS_REGISTER=0x34\n",
    "S2MM_DESTINATION_ADDRESS=0x48\n",
    "S2MM_LENGTH=0x58"
   ]
  },
  {
   "cell_type": "code",
   "execution_count": 3,
   "metadata": {
    "collapsed": false
   },
   "outputs": [
    {
     "name": "stdout",
     "output_type": "stream",
     "text": [
      "0x10002\n",
      "0x10009\n",
      "0x0\n",
      "0x0\n",
      "0x10002\n",
      "0x10009\n",
      "0x0\n",
      "0x0\n"
     ]
    }
   ],
   "source": [
    "print(hex(axis.read(MM2S_CONTROL_REGISTER)))\n",
    "print(hex(axis.read(MM2S_STATUS_REGISTER)))\n",
    "print(hex(axis.read(MM2S_START_ADDRESS)))\n",
    "print(hex(axis.read(MM2S_LENGTH)))\n",
    "print(hex(axis.read(S2MM_CONTROL_REGISTER)))\n",
    "print(hex(axis.read(S2MM_STATUS_REGISTER)))\n",
    "print(hex(axis.read(S2MM_DESTINATION_ADDRESS)))\n",
    "print(hex(axis.read(S2MM_DESTINATION_ADDRESS)))"
   ]
  },
  {
   "cell_type": "code",
   "execution_count": null,
   "metadata": {
    "collapsed": false
   },
   "outputs": [],
   "source": [
    "def dma_status(REGISTER_OFFSET):\n",
    "    global axis\n",
    "    status=axis.read(REGISTER_OFFSET)\n",
    "    if (REGISTER_OFFSET==0x34):\n",
    "        print(\"Stream to memory-mapped status: \"+str(hex(status))+\"@\"+str(REGISTER_OFFSET))  \n",
    "    else: \n",
    "        print(\"Memory-mapped to stream status: \"+str(hex(status))+\"@\"+str(REGISTER_OFFSET))  \n",
    "    print(\"halted\") if (status & 0x00000001) else print(\"running\")\n",
    "    if (status & 0x00000002): print(\"idle\")  \n",
    "    if (status & 0x00000008): print(\"SGIncld\")  \n",
    "    if (status & 0x00000010): print(\"DMAIntErr\") \n",
    "    if (status & 0x00000020): print(\"DMASlvErr\") \n",
    "    if (status & 0x00000040): print(\"DMADecErr\")\n",
    "    if (status & 0x00000100): print(\"SGIntErr\") \n",
    "    if (status & 0x00000200): print(\"SGSlvErr\") \n",
    "    if (status & 0x00000400): print(\"SGDecErr\") \n",
    "    if (status & 0x00001000): print(\"IOC_Irq\") \n",
    "    if (status & 0x00002000): print(\"Dly_Irq\") \n",
    "    if (status & 0x00004000): print(\"Err_Irq\") \n",
    "    #print(\"\\n\");\n",
    "\n",
    "def dma_set(offset,value):\n",
    "    global axis\n",
    "    axis.write(offset,value)\n",
    "    #print(hex(offset))\n",
    "\n",
    "def dma_get(offset):\n",
    "    global axis\n",
    "    val=axis.read(offset)\n",
    "    #print(hex(val))\n",
    "    return val\n",
    "\n",
    "def memdump(loc,byteCount):\n",
    "    global axis\n",
    "    for offset in range(0,byteCount):\n",
    "        print(\"LOC \",str(offset), hex(axis.read(loc+offset*4)));\n",
    "        if offset%4==3: print(\" \") \n",
    "    print(\"\\n\") \n",
    "\n",
    "def dma_mm2s_sync():\n",
    "    mm2s_status=dma_get(MM2S_STATUS_REGISTER)\n",
    "    while(~(mm2s_status & 1<<12) | ~(mm2s_status & 1<<1) ):\n",
    "        #dma_status(S2MM_STATUS_REGISTER)\n",
    "        #dma_status(MM2S_STATUS_REGISTER)\n",
    "        mm2s_status=dma_get(MM2S_STATUS_REGISTER)\n",
    "\n",
    "def dma_s2mm_sync():\n",
    "    s2mm_status=dma_get(S2MM_STATUS_REGISTER)\n",
    "    while(~(mm2s_status & 1<<12) | ~(mm2s_status & 1<<1) ):\n",
    "        #dma_status(S2MM_STATUS_REGISTER)\n",
    "        #dma_status(MM2S_STATUS_REGISTER)\n",
    "        s2mm_status=dma_get(S2MM_STATUS_REGISTER)"
   ]
  },
  {
   "cell_type": "code",
   "execution_count": null,
   "metadata": {
    "collapsed": false
   },
   "outputs": [
    {
     "name": "stdout",
     "output_type": "stream",
     "text": [
      "Resetting DMA\n",
      "Stream to memory-mapped status: 0x10009@52\n",
      "halted\n",
      "SGIncld\n",
      "Memory-mapped to stream status: 0x10009@4\n",
      "halted\n",
      "SGIncld\n",
      "Halting DMA\n",
      "Stream to memory-mapped status: 0x10009@52\n",
      "halted\n",
      "SGIncld\n",
      "Memory-mapped to stream status: 0x10009@4\n",
      "halted\n",
      "SGIncld\n",
      "Writing destination address..\n",
      "Stream to memory-mapped status: 0x10009@52\n",
      "halted\n",
      "SGIncld\n",
      "Writing source address...\n",
      "Memory-mapped to stream status: 0x10009@4\n",
      "halted\n",
      "SGIncld\n",
      "Starting S2MM channel with all interrupts masked...\n",
      "Stream to memory-mapped status: 0x10008@52\n",
      "running\n",
      "SGIncld\n",
      "Starting MM2S channel with all interrupts masked...\n",
      "Memory-mapped to stream status: 0x10008@4\n",
      "running\n",
      "SGIncld\n",
      "Writing S2MM transfer length...\n",
      "Stream to memory-mapped status: 0x10008@52\n",
      "running\n",
      "SGIncld\n",
      "Writing MM2S transfer length...\n",
      "Memory-mapped to stream status: 0x10008@4\n",
      "running\n",
      "SGIncld\n",
      "Waiting for MM2S synchronization..\n"
     ]
    }
   ],
   "source": [
    "source_address=0x0e000000\n",
    "destination_address=0x0f000000\n",
    "#print(\"Source memory block:      \")\n",
    "#memdump(source_address,32);\n",
    "#print(\"Destination memory block:      \")\n",
    "#memdump(destination_address,32);\n",
    "\n",
    "print(\"Resetting DMA\")    \n",
    "dma_set(S2MM_CONTROL_REGISTER, 4)\n",
    "dma_set(MM2S_CONTROL_REGISTER, 4)\n",
    "dma_status(S2MM_STATUS_REGISTER)\n",
    "dma_status(MM2S_STATUS_REGISTER)\n",
    "\n",
    "print(\"Halting DMA\")   \n",
    "dma_set(S2MM_CONTROL_REGISTER, 0);\n",
    "dma_set(MM2S_CONTROL_REGISTER, 0);\n",
    "dma_status(S2MM_STATUS_REGISTER);\n",
    "dma_status(MM2S_STATUS_REGISTER);\n",
    "\n",
    "print(\"Writing destination address..\");\n",
    "dma_set(S2MM_DESTINATION_ADDRESS, 0x0f000000);\n",
    "dma_status(S2MM_STATUS_REGISTER);\n",
    "\n",
    "print(\"Writing source address...\");\n",
    "dma_set(MM2S_START_ADDRESS, 0x0e000000); \n",
    "dma_status(MM2S_STATUS_REGISTER);\n",
    "\n",
    "print(\"Starting S2MM channel with all interrupts masked...\");\n",
    "dma_set(S2MM_CONTROL_REGISTER, 0xf001);\n",
    "dma_status(S2MM_STATUS_REGISTER);\n",
    "\n",
    "print(\"Starting MM2S channel with all interrupts masked...\");\n",
    "dma_set(MM2S_CONTROL_REGISTER, 0xf001);\n",
    "dma_status(MM2S_STATUS_REGISTER);\n",
    "\n",
    "print(\"Writing S2MM transfer length...\");\n",
    "dma_set(S2MM_LENGTH, 32);\n",
    "dma_status(S2MM_STATUS_REGISTER);\n",
    "\n",
    "print(\"Writing MM2S transfer length...\");\n",
    "dma_set(MM2S_LENGTH, 32);\n",
    "dma_status(MM2S_STATUS_REGISTER);\n",
    "\n",
    "print(\"Waiting for MM2S synchronization..\");\n",
    "dma_mm2s_sync();\n",
    "\n",
    "print(\"Waiting for S2MM sychronization...\");\n",
    "dma_s2mm_sync(); \n",
    "\n",
    "dma_status(S2MM_STATUS_REGISTER);\n",
    "dma_status(MM2S_STATUS_REGISTER);\n"
   ]
  },
  {
   "cell_type": "code",
   "execution_count": null,
   "metadata": {
    "collapsed": true
   },
   "outputs": [],
   "source": []
  }
 ],
 "metadata": {
  "kernelspec": {
   "display_name": "Python 3",
   "language": "python",
   "name": "python3"
  },
  "language_info": {
   "codemirror_mode": {
    "name": "ipython",
    "version": 3
   },
   "file_extension": ".py",
   "mimetype": "text/x-python",
   "name": "python",
   "nbconvert_exporter": "python",
   "pygments_lexer": "ipython3",
   "version": "3.4.3+"
  }
 },
 "nbformat": 4,
 "nbformat_minor": 1
}
