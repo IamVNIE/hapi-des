{
 "cells": [
  {
   "cell_type": "markdown",
   "metadata": {
    "collapsed": false
   },
   "source": [
    "# DMA AXI Stream FIFO Test for PYNQ"
   ]
  },
  {
   "cell_type": "code",
   "execution_count": null,
   "metadata": {
    "collapsed": true
   },
   "outputs": [],
   "source": [
    "from pynq import Overlay\n",
    "ol = Overlay(\"axi_stream.bit\")\n",
    "\n",
    "ol.download()\n",
    "ol.bitstream.timestamp\n",
    "\n",
    "from pynq import PL\n",
    "PL.bitfile_name\n",
    "\n",
    "ol.is_loaded()"
   ]
  },
  {
   "cell_type": "markdown",
   "metadata": {},
   "source": [
    "# Testing dma class provided in Base PYNQ  "
   ]
  },
  {
   "cell_type": "code",
   "execution_count": 32,
   "metadata": {
    "collapsed": false
   },
   "outputs": [],
   "source": [
    "from pynq.drivers.dma import DMA\n",
    "dma_base = int(PL.ip_dict[\"SEG_axi_dma_0_Reg2\"][0],16)\n",
    "print(hex(dma_base))\n",
    "dma = DMA(dma_base, direction=3)"
   ]
  },
  {
   "cell_type": "code",
   "execution_count": 109,
   "metadata": {
    "collapsed": false
   },
   "outputs": [],
   "source": [
    "import numpy as np\n",
    "import cffi\n",
    "MAX_NUM_SAMPLES=10\n",
    "dma.create_buf(MAX_NUM_SAMPLES*8)#= bytearray(b'abcdefgh')\n",
    "dma.transfer(MAX_NUM_SAMPLES*8, direction=1)"
   ]
  },
  {
   "cell_type": "code",
   "execution_count": 112,
   "metadata": {
    "collapsed": true
   },
   "outputs": [],
   "source": [
    "#vin = {}\n",
    "vin=dma.get_buf(32)"
   ]
  },
  {
   "cell_type": "code",
   "execution_count": 113,
   "metadata": {
    "collapsed": false
   },
   "outputs": [
    {
     "name": "stdout",
     "output_type": "stream",
     "text": [
      "'0,0,0,0,0,0,0,0,0,0,0,0,0,0,0,0,0,0,0,0,0,0,0,0,0,0,0,0,0,0,0,0'\n"
     ]
    }
   ],
   "source": [
    "import ctypes\n",
    "import numpy as np\n",
    "import pprint\n",
    "list_val = []\n",
    "temp2=[]\n",
    "for i in range(1):\n",
    "    for j in range(31,-1,-1):\n",
    "            list_val.append(str((vin[i] & 1<<j)>>j))\n",
    "    temp = ','.join(list_val)\n",
    "pprint.pprint(temp)"
   ]
  },
  {
   "cell_type": "markdown",
   "metadata": {},
   "source": [
    "# Creating DMA code based on codes available for Zybo/parallela \n",
    "# Trying without compiling drivers to kernel\n",
    "# At this point, dont know whether interrupts can be accessed from user-space"
   ]
  },
  {
   "cell_type": "code",
   "execution_count": 118,
   "metadata": {
    "collapsed": false
   },
   "outputs": [],
   "source": [
    "from pynq import MMIO\n",
    "axis = MMIO(int(PL.ip_dict[\"SEG_axi_dma_0_Reg2\"][0],16),0x00010000)\n",
    "\n",
    "#*********************************************************************#\n",
    "#*                   define all register locations                   *#\n",
    "#*            based on \"one blog and one github code\"                *#\n",
    "#* FROM: https://lauri.xn--vsandi-pxa.com/hdl/zynq/xilinx-dma.html   *#\n",
    "#*      & FROM: https://github.com/OpenDGPS/zynq-axi-dma-sg          *#\n",
    "#*********************************************************************#\n",
    "MM2S_CONTROL_REGISTER       =0x00\n",
    "MM2S_STATUS_REGISTER        =0x04\n",
    "MM2S_START_ADDRESS          =0x18\n",
    "MM2S_LENGTH                 =0x28\n",
    "MM2S_CURDESC                =0x08 # must align =0x40 addresses\n",
    "MM2S_CURDESC_MSB            =0x0C # unused with 32bit addresses\n",
    "MM2S_TAILDESC               =0x10 # must align =0x40 addresses\n",
    "MM2S_TAILDESC_MSB           =0x14 # unused with 32bit addresses\n",
    "\n",
    "S2MM_CONTROL_REGISTER       =0x30\n",
    "S2MM_STATUS_REGISTER        =0x34\n",
    "S2MM_DESTINATION_ADDRESS    =0x48\n",
    "S2MM_LENGTH                 =0x58\n",
    "S2MM_CURDESC                =0x38 # must align =0x40 addresses\n",
    "S2MM_CURDESC_MSB            =0x3C # unused with 32bit addresses\n",
    "S2MM_TAILDESC               =0x40 # must align =0x40 addresses\n",
    "S2MM_TAILDESC_MSB           =0x44 # unused with 32bit addresses\n",
    "\n",
    "SG_CTL                      =0x2C # CACHE CONTROL\n",
    "\n",
    "\n",
    "#*********************************************************************#\n",
    "#*                 define MEMORY MAP locations                       *#\n",
    "#*          consult the README for the exact memory layout           *#\n",
    "#*         FROM: https://github.com/OpenDGPS/zynq-axi-dma-sg         *#\n",
    "#*********************************************************************#\n",
    "\n",
    "HP0_DMA_BUFFER_MEM_ADDRESS         = 0x20000000\n",
    "AXI_DMA_REGISTER_LOCATION          = 0x40400000 #AXI DMA Register Address Map\n",
    "DESCRIPTOR_REGISTERS_SIZE          = 0xFFFF\n",
    "SG_DMA_DESCRIPTORS_WIDTH           = 0xFFFF\n",
    "MEMBLOCK_WIDTH                     = 0x3FFFFFF#size of mem used by s2mm and mm2s\n",
    "BUFFER_BLOCK_WIDTH                 = 0x7D0000 #size of memory block per descriptor in bytes\n",
    "NUM_OF_DESCRIPTORS                 = 0x7 #number of descriptors for each direction\n",
    "HP_DMA_BUFFER_MEM_ADDRESS         = 0x30000000  # Using S_AXI_HP2 -- (My Address Editor shows it is connected to 0x00 to 0x1FFFFFFF\n",
    "HP_MM2S_DMA_BASE_MEM_ADDRESS       = HP_DMA_BUFFER_MEM_ADDRESS\n",
    "HP_S2MM_DMA_BASE_MEM_ADDRESS       = HP_DMA_BUFFER_MEM_ADDRESS + MEMBLOCK_WIDTH + 1\n",
    "HP_MM2S_DMA_DESCRIPTORS_ADDRESS    = HP_MM2S_DMA_BASE_MEM_ADDRESS\n",
    "HP_S2MM_DMA_DESCRIPTORS_ADDRESS    = HP_S2MM_DMA_BASE_MEM_ADDRESS\n",
    "HP_MM2S_SOURCE_MEM_ADDRESS         = HP_MM2S_DMA_BASE_MEM_ADDRESS + SG_DMA_DESCRIPTORS_WIDTH + 1\n",
    "HP_S2MM_TARGET_MEM_ADDRESS         = HP_S2MM_DMA_BASE_MEM_ADDRESS + SG_DMA_DESCRIPTORS_WIDTH + 1"
   ]
  },
  {
   "cell_type": "code",
   "execution_count": 119,
   "metadata": {
    "collapsed": false
   },
   "outputs": [
    {
     "name": "stdout",
     "output_type": "stream",
     "text": [
      "0x10003\n",
      "0x10008\n",
      "0x0\n",
      "0x0\n",
      "0x10003\n",
      "0x10008\n",
      "0x0\n",
      "0x0\n",
      "0x3\n"
     ]
    }
   ],
   "source": [
    "print(hex(axis.read(MM2S_CONTROL_REGISTER)))\n",
    "print(hex(axis.read(MM2S_STATUS_REGISTER)))\n",
    "print(hex(axis.read(MM2S_START_ADDRESS)))\n",
    "print(hex(axis.read(MM2S_LENGTH)))\n",
    "\n",
    "print(hex(axis.read(S2MM_CONTROL_REGISTER)))\n",
    "print(hex(axis.read(S2MM_STATUS_REGISTER)))\n",
    "print(hex(axis.read(S2MM_DESTINATION_ADDRESS)))\n",
    "print(hex(axis.read(S2MM_DESTINATION_ADDRESS)))\n",
    "\n",
    "print(hex(axis.read(SG_CTL)))"
   ]
  },
  {
   "cell_type": "code",
   "execution_count": null,
   "metadata": {
    "collapsed": false
   },
   "outputs": [],
   "source": [
    "def dma_status(REGISTER_OFFSET):\n",
    "    global axis\n",
    "    status=axis.read(REGISTER_OFFSET)\n",
    "    if (REGISTER_OFFSET==0x34):\n",
    "        print(\"Stream to memory-mapped status: \"+str(hex(status))+\"@\"+str(REGISTER_OFFSET)+\": \",end=\"\", flush=True)  \n",
    "    else: \n",
    "        print(\"Memory-mapped to stream status: \"+str(hex(status))+\"@\"+str(REGISTER_OFFSET)+\": \",end=\"\", flush=True)  \n",
    "    print(\"halted\") if (status & 0x00000001) else print(\"running \",end=\"\", flush=True)\n",
    "    if (status & 0x00000002): print(\"idle\",end=\"\", flush=True)  \n",
    "    if (status & 0x00000008): print(\"SGIncld\",end=\"\", flush=True)  \n",
    "    if (status & 0x00000010): print(\"DMAIntErr\",end=\"\", flush=True) \n",
    "    if (status & 0x00000020): print(\"DMASlvErr\",end=\"\", flush=True) \n",
    "    if (status & 0x00000040): print(\"DMADecErr\",end=\"\", flush=True)\n",
    "    if (status & 0x00000100): print(\"SGIntErr\",end=\"\", flush=True) \n",
    "    if (status & 0x00000200): print(\"SGSlvErr\",end=\"\", flush=True) \n",
    "    if (status & 0x00000400): print(\"SGDecErr\",end=\"\", flush=True) \n",
    "    if (status & 0x00001000): print(\"IOC_Irq\",end=\"\", flush=True) \n",
    "    if (status & 0x00002000): print(\"Dly_Irq\",end=\"\", flush=True) \n",
    "    if (status & 0x00004000): print(\"Err_Irq\",end=\"\", flush=True) \n",
    "    print(\"\\n\");\n",
    "\n",
    "def dma_set(offset,value):\n",
    "    global axis\n",
    "    axis.write(offset,value)\n",
    "    #print(hex(offset))\n",
    "\n",
    "def dma_get(offset):\n",
    "    global axis\n",
    "    val=axis.read(offset)\n",
    "    #print(hex(val))\n",
    "    return val\n",
    "\n",
    "def memdump(virt_addr,byteCount):\n",
    "    #global axis\n",
    "    for offset in range(0,byteCount):\n",
    "        print(\"LOC \",str(offset), str(hex(virt_addr.read(offset*4))));\n",
    "        if offset%4==3: print(\" \") \n",
    "    print(\"\\n\") \n",
    "\n",
    "def memset(virt_addr,data,byteCount):\n",
    "    #global axis\n",
    "    for offset in range(0,byteCount):\n",
    "        virt_addr.write(offset*4,data)\n",
    "        #print(\"LOC \",str(offset), str(hex()));\n",
    "        #if offset%4==3: print(\" \") \n",
    "    #print(\"\\n\") \n",
    "    \n",
    "def dma_mm2s_sync():\n",
    "    mm2s_status=dma_get(MM2S_STATUS_REGISTER)\n",
    "    while(~(mm2s_status & 1<<12) | ~(mm2s_status & 1<<1) ):\n",
    "        #dma_status(S2MM_STATUS_REGISTER)\n",
    "        #dma_status(MM2S_STATUS_REGISTER)\n",
    "        mm2s_status=dma_get(MM2S_STATUS_REGISTER)\n",
    "\n",
    "def dma_s2mm_sync():\n",
    "    s2mm_status=dma_get(S2MM_STATUS_REGISTER)\n",
    "    while(~(mm2s_status & 1<<12) | ~(mm2s_status & 1<<1) ):\n",
    "        #dma_status(S2MM_STATUS_REGISTER)\n",
    "        #dma_status(MM2S_STATUS_REGISTER)\n",
    "        s2mm_status=dma_get(S2MM_STATUS_REGISTER)"
   ]
  },
  {
   "cell_type": "code",
   "execution_count": null,
   "metadata": {
    "collapsed": false
   },
   "outputs": [],
   "source": [
    "# Based on https://lauri.xn--vsandi-pxa.com/hdl/zynq/xilinx-dma.html Code\n",
    "srcAddr = MMIO(0x0e000000,0x00010000)\n",
    "dstAddr= MMIO(0x0f000000,0x00010000)\n",
    "srcAddr.write(0,0x11223344)\n",
    "memset(dstAddr,0,32)\n",
    "print(\"Source memory block:      \")\n",
    "memdump(srcAddr,32);\n",
    "print(\"Destination memory block:      \")\n",
    "memdump(dstAddr,32);"
   ]
  },
  {
   "cell_type": "code",
   "execution_count": null,
   "metadata": {
    "collapsed": false
   },
   "outputs": [],
   "source": [
    "print(\"Resetting DMA\")    \n",
    "dma_set(S2MM_CONTROL_REGISTER, 4)\n",
    "dma_set(MM2S_CONTROL_REGISTER, 4)\n",
    "dma_status(S2MM_STATUS_REGISTER)\n",
    "dma_status(MM2S_STATUS_REGISTER)\n",
    "\n",
    "print(\"Halting DMA\")   \n",
    "dma_set(S2MM_CONTROL_REGISTER, 0);\n",
    "dma_set(MM2S_CONTROL_REGISTER, 0);\n",
    "dma_status(S2MM_STATUS_REGISTER);\n",
    "dma_status(MM2S_STATUS_REGISTER);\n",
    "\n",
    "print(\"Writing destination address..\");\n",
    "dma_set(S2MM_DESTINATION_ADDRESS, 0x0f000000);\n",
    "dma_status(S2MM_STATUS_REGISTER);\n",
    "\n",
    "print(\"Writing source address...\");\n",
    "dma_set(MM2S_START_ADDRESS, 0x0e000000); \n",
    "dma_status(MM2S_STATUS_REGISTER);\n",
    "\n",
    "print(\"Starting S2MM channel with all interrupts masked...\");\n",
    "dma_set(S2MM_CONTROL_REGISTER, 0xf001);\n",
    "dma_status(S2MM_STATUS_REGISTER);\n",
    "\n",
    "print(\"Starting MM2S channel with all interrupts masked...\");\n",
    "dma_set(MM2S_CONTROL_REGISTER, 0xf001);\n",
    "dma_status(MM2S_STATUS_REGISTER);\n",
    "\n",
    "print(\"Writing S2MM transfer length...\");\n",
    "dma_set(S2MM_LENGTH, 32);\n",
    "dma_status(S2MM_STATUS_REGISTER);\n",
    "\n",
    "print(\"Writing MM2S transfer length...\");\n",
    "dma_set(MM2S_LENGTH, 32);\n",
    "dma_status(MM2S_STATUS_REGISTER);\n",
    "\n",
    "print(\"Waiting for MM2S synchronization..\");\n",
    "#dma_mm2s_sync(); #(GETS STUCK HERE IF SYNC IS ENABLED)\n",
    "\n",
    "print(\"Waiting for S2MM sychronization...\");\n",
    "#dma_s2mm_sync(); \n",
    "\n",
    "print(\"Source memory block:      \")\n",
    "memdump(srcAddr,32);\n",
    "print(\"Destination memory block:      \")\n",
    "memdump(dstAddr,32);\n",
    "dma_status(S2MM_STATUS_REGISTER);\n",
    "dma_status(MM2S_STATUS_REGISTER);\n"
   ]
  },
  {
   "cell_type": "code",
   "execution_count": null,
   "metadata": {
    "collapsed": true
   },
   "outputs": [],
   "source": []
  }
 ],
 "metadata": {
  "kernelspec": {
   "display_name": "Python 3",
   "language": "python",
   "name": "python3"
  },
  "language_info": {
   "codemirror_mode": {
    "name": "ipython",
    "version": 3
   },
   "file_extension": ".py",
   "mimetype": "text/x-python",
   "name": "python",
   "nbconvert_exporter": "python",
   "pygments_lexer": "ipython3",
   "version": "3.4.3+"
  }
 },
 "nbformat": 4,
 "nbformat_minor": 1
}
