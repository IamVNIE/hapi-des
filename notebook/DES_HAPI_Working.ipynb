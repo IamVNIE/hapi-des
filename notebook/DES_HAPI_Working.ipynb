{
 "cells": [
  {
   "cell_type": "markdown",
   "metadata": {},
   "source": [
    "# Pynq-Z1 DES ACCELERATOR DEMO \n",
    "# HARDWARE API (HAPI)\n",
    "\n",
    "* FULLY PARALLEL DES ACCELERATOR CODE\n",
    "* Repository: https://github.com/IamVNIE/hapi-des\n",
    "* Based-on: https://github.com/Xilinx/PYNQ"
   ]
  },
  {
   "cell_type": "markdown",
   "metadata": {},
   "source": [
    "# Install package"
   ]
  },
  {
   "cell_type": "code",
   "execution_count": null,
   "metadata": {
    "collapsed": false
   },
   "outputs": [],
   "source": [
    "!sudo -H pip install --upgrade 'git+https://github.com/IamVNIE/hapi-des'"
   ]
  },
  {
   "cell_type": "markdown",
   "metadata": {},
   "source": [
    "Step 1: Initialize DES ACCELERATOR -- RESET"
   ]
  },
  {
   "cell_type": "code",
   "execution_count": 1,
   "metadata": {
    "collapsed": false
   },
   "outputs": [
    {
     "ename": "AttributeError",
     "evalue": "'hapiDES' object has no attribute 'mmio'",
     "output_type": "error",
     "traceback": [
      "\u001b[0;31m---------------------------------------------------------------------------\u001b[0m",
      "\u001b[0;31mAttributeError\u001b[0m                            Traceback (most recent call last)",
      "\u001b[0;32m<ipython-input-1-35e51277d1df>\u001b[0m in \u001b[0;36m<module>\u001b[0;34m()\u001b[0m\n\u001b[1;32m      3\u001b[0m \u001b[0;32mfrom\u001b[0m \u001b[0mpynq\u001b[0m \u001b[0;32mimport\u001b[0m \u001b[0mOverlay\u001b[0m\u001b[0;34m\u001b[0m\u001b[0m\n\u001b[1;32m      4\u001b[0m \u001b[0mdes\u001b[0m\u001b[0;34m=\u001b[0m\u001b[0mhapiDES\u001b[0m\u001b[0;34m(\u001b[0m\u001b[0;34m)\u001b[0m\u001b[0;34m\u001b[0m\u001b[0m\n\u001b[0;32m----> 5\u001b[0;31m \u001b[0mdes\u001b[0m\u001b[0;34m.\u001b[0m\u001b[0mreset_des_accel\u001b[0m\u001b[0;34m(\u001b[0m\u001b[0;34m)\u001b[0m\u001b[0;34m\u001b[0m\u001b[0m\n\u001b[0m",
      "\u001b[0;32m/usr/local/lib/python3.4/dist-packages/hapiDES/hapiDES.py\u001b[0m in \u001b[0;36mreset_des_accel\u001b[0;34m(self)\u001b[0m\n\u001b[1;32m    120\u001b[0m         \u001b[0;32mglobal\u001b[0m \u001b[0mmmio\u001b[0m\u001b[0;34m\u001b[0m\u001b[0m\n\u001b[1;32m    121\u001b[0m         \u001b[0mconfig_reg\u001b[0m\u001b[0;34m=\u001b[0m\u001b[0;36m0x80000001\u001b[0m\u001b[0;34m\u001b[0m\u001b[0m\n\u001b[0;32m--> 122\u001b[0;31m         \u001b[0mself\u001b[0m\u001b[0;34m.\u001b[0m\u001b[0mmmio\u001b[0m\u001b[0;34m.\u001b[0m\u001b[0mwrite\u001b[0m\u001b[0;34m(\u001b[0m\u001b[0;36m0\u001b[0m\u001b[0;34m,\u001b[0m\u001b[0mconfig_reg\u001b[0m\u001b[0;34m)\u001b[0m\u001b[0;34m\u001b[0m\u001b[0m\n\u001b[0m\u001b[1;32m    123\u001b[0m         \u001b[0mprint\u001b[0m\u001b[0;34m(\u001b[0m\u001b[0;34m\"DES ACCELERATOR RESET\"\u001b[0m\u001b[0;34m)\u001b[0m\u001b[0;34m\u001b[0m\u001b[0m\n\u001b[1;32m    124\u001b[0m         \u001b[0mconfig_reg\u001b[0m\u001b[0;34m=\u001b[0m\u001b[0;36m0x80000001\u001b[0m\u001b[0;34m\u001b[0m\u001b[0m\n",
      "\u001b[0;31mAttributeError\u001b[0m: 'hapiDES' object has no attribute 'mmio'"
     ]
    }
   ],
   "source": [
    "from hapiDES import hapiDES\n",
    "from pynq import pl\n",
    "from pynq import Overlay\n",
    "des=hapiDES()\n",
    "des.reset_des_accel()"
   ]
  },
  {
   "cell_type": "markdown",
   "metadata": {},
   "source": [
    "Step 2: Initialize DES ACCELERATOR OPERATION -- SET TO ENCRYPTION"
   ]
  },
  {
   "cell_type": "code",
   "execution_count": 2,
   "metadata": {
    "collapsed": false
   },
   "outputs": [
    {
     "name": "stdout",
     "output_type": "stream",
     "text": [
      "DES ACCELERATOR IS SET TO ENCRYPT\n",
      "-->SET A NEW KEY OR WILL USE THE PREVIOUS SET KEY\n"
     ]
    }
   ],
   "source": [
    "des.set_oper_encrypt()"
   ]
  },
  {
   "cell_type": "markdown",
   "metadata": {},
   "source": [
    "Step 3: Initialize ENCRYPTION KEY"
   ]
  },
  {
   "cell_type": "code",
   "execution_count": 3,
   "metadata": {
    "collapsed": false
   },
   "outputs": [
    {
     "name": "stdout",
     "output_type": "stream",
     "text": [
      "CRYPTO KEY UPDATED\n"
     ]
    }
   ],
   "source": [
    "MyKey=[0xfdcb0,0x167cde]\n",
    "des.set_key(MyKey)"
   ]
  },
  {
   "cell_type": "markdown",
   "metadata": {},
   "source": [
    "Step 4: CHECK ENCRYPTION OPERATION ON SAMPLE DATA"
   ]
  },
  {
   "cell_type": "code",
   "execution_count": 4,
   "metadata": {
    "collapsed": false
   },
   "outputs": [
    {
     "name": "stdout",
     "output_type": "stream",
     "text": [
      "DES ACCEL STATUS\n",
      "ACTIVE (NOT IN RESET)\n",
      "MODE:ENCRYPT\n"
     ]
    },
    {
     "data": {
      "text/plain": [
       "['0xdbd44175', '0x8cd6a970']"
      ]
     },
     "execution_count": 4,
     "metadata": {},
     "output_type": "execute_result"
    }
   ],
   "source": [
    "input_data=[0xFE123410,0x12354567]\n",
    "des.des_status()\n",
    "des.encrypt(input_data)"
   ]
  },
  {
   "cell_type": "markdown",
   "metadata": {},
   "source": [
    "PERFORM OPERATION ON LARGE INPUT -- CAN INPUT A FILE"
   ]
  },
  {
   "cell_type": "code",
   "execution_count": 5,
   "metadata": {
    "collapsed": true
   },
   "outputs": [],
   "source": [
    "## This ia function to flatten the ASCII INPUT to HEX -- Has bug #Needs fixing\n",
    "import time\n",
    "import math\n",
    "def data_formatter(txt):\n",
    "    dataIn=''.join(hex(ord(x))[2:] for x in txt)\n",
    "    #print(dataIn)\n",
    "    #print(len(dataIn))\n",
    "    vin=[]\n",
    "    for i in range(0,len(dataIn),8):\n",
    "        vin.append(''.join(map(str,dataIn[i:i+8])))\n",
    "    vin=['0x' + s for s in vin]\n",
    "    #print(\"INPUT\")\n",
    "    #print(vin)\n",
    "    vin_bc=vin\n",
    "    vin=[int(x,16) for x in vin]\n",
    "    if len(vin)%2!=0:\n",
    "        vin.append(0)\n",
    "    return vin,vin_bc"
   ]
  },
  {
   "cell_type": "markdown",
   "metadata": {},
   "source": [
    "# Encryption on a Message"
   ]
  },
  {
   "cell_type": "code",
   "execution_count": 6,
   "metadata": {
    "collapsed": false
   },
   "outputs": [
    {
     "name": "stdout",
     "output_type": "stream",
     "text": [
      "--- 0.0022466182708740234 seconds ---\n",
      "--- 1780.45378329619 Blocks Per Second---\n",
      "ENCRYPTED CIPHER TEXT\n",
      "['0x176c295', '0xd1470f4a', '0x6e8c69a9', '0xc3023084', '0x845b63ce', '0x9ec95823', '0xdedbc128', '0xb0042c0b']\n"
     ]
    }
   ],
   "source": [
    "txt =\"Let us try to encrypt this\"\n",
    "data_2send,enc_in_hex=data_formatter(txt)\n",
    "#print(enc_in_hex)\n",
    "cryptRes=[]\n",
    "j=0\n",
    "TOTAL_BLOCKS=len(data_2send)\n",
    "start_time = time.time()\n",
    "for i in range(0,len(data_2send),2):\n",
    "    cryptRes[j:j+1]=des.encrypt(data_2send[i:i+2])\n",
    "    j=j+2\n",
    "exec_time=time.time() - start_time\n",
    "print(\"--- %s seconds ---\" % (exec_time))\n",
    "print(\"--- %s Blocks Per Second---\" % ((math.pow(1, 1))*(TOTAL_BLOCKS/2)/exec_time))\n",
    "print(\"ENCRYPTED CIPHER TEXT\")\n",
    "print(cryptRes)"
   ]
  },
  {
   "cell_type": "markdown",
   "metadata": {},
   "source": [
    "# Decryption of encrypted message"
   ]
  },
  {
   "cell_type": "code",
   "execution_count": 7,
   "metadata": {
    "collapsed": false
   },
   "outputs": [
    {
     "name": "stdout",
     "output_type": "stream",
     "text": [
      "DES ACCELERATOR IS SET TO DECRYPT\n",
      "-->SET A NEW KEY OR WILL USE THE PREVIOUS SET KEY\n",
      "--- 0.0028123855590820312 seconds ---\n",
      "--- 1422.28009494744 Blocks Per Second---\n",
      "['0x4c657420', '0x75732074', '0x72792074', '0x6f20656e', '0x63727970', '0x74207468', '0x6973', '0x0']\n"
     ]
    }
   ],
   "source": [
    "des.set_oper_decrypt()\n",
    "decipher=[]\n",
    "j=0\n",
    "TOTAL_BLOCKS=len(cryptRes)\n",
    "cryptRes=[int(x,16) for x in cryptRes]\n",
    "#print(cryptRes)\n",
    "start_time = time.time()\n",
    "for i in range(0,len(cryptRes),2):\n",
    "    decipher[j:j+1]=des.decrypt(cryptRes[i:i+2])\n",
    "    j=j+2\n",
    "exec_time=time.time() - start_time\n",
    "print(\"--- %s seconds ---\" % (exec_time))\n",
    "print(\"--- %s Blocks Per Second---\" % ((math.pow(1, 1))*(TOTAL_BLOCKS/2)/exec_time))\n",
    "print(decipher)"
   ]
  },
  {
   "cell_type": "markdown",
   "metadata": {},
   "source": [
    "Verifying if we got the original input"
   ]
  },
  {
   "cell_type": "code",
   "execution_count": 8,
   "metadata": {
    "collapsed": false
   },
   "outputs": [
    {
     "name": "stdout",
     "output_type": "stream",
     "text": [
      "{'0x0'}\n"
     ]
    }
   ],
   "source": [
    "#bool(set(decipher) & set(enc_in_hex))\n",
    "print(set(decipher)^set(enc_in_hex))\n",
    "#print(x) for x,y in (decipher,enc_in_hex) if x!=y"
   ]
  },
  {
   "cell_type": "markdown",
   "metadata": {},
   "source": [
    "# Print the message back in ascii"
   ]
  },
  {
   "cell_type": "code",
   "execution_count": 9,
   "metadata": {
    "collapsed": false
   },
   "outputs": [
    {
     "name": "stdout",
     "output_type": "stream",
     "text": [
      "4c65742075732074727920746f20656e637279707420746869730\n",
      "Let us try to encrypt this\n"
     ]
    }
   ],
   "source": [
    "dec=(''.join(map(str,decipher)))\n",
    "dec=dec.replace(\"0x\",\"\")\n",
    "print(dec)\n",
    "ascii_string =''\n",
    "x = 0\n",
    "y = 2\n",
    "l = len(dec)\n",
    "while y <= l:\n",
    "    ascii_string += chr(int(dec[x:y], 16))\n",
    "    x += 2\n",
    "    y += 2\n",
    "print (ascii_string)"
   ]
  },
  {
   "cell_type": "code",
   "execution_count": null,
   "metadata": {
    "collapsed": true
   },
   "outputs": [],
   "source": []
  }
 ],
 "metadata": {
  "kernelspec": {
   "display_name": "Python 3",
   "language": "python",
   "name": "python3"
  },
  "language_info": {
   "codemirror_mode": {
    "name": "ipython",
    "version": 3
   },
   "file_extension": ".py",
   "mimetype": "text/x-python",
   "name": "python",
   "nbconvert_exporter": "python",
   "pygments_lexer": "ipython3",
   "version": "3.4.3+"
  }
 },
 "nbformat": 4,
 "nbformat_minor": 1
}
