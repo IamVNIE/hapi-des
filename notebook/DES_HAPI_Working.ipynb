{
 "cells": [
  {
   "cell_type": "code",
   "execution_count": 145,
   "metadata": {
    "collapsed": false
   },
   "outputs": [
    {
     "data": {
      "text/plain": [
       "True"
      ]
     },
     "execution_count": 145,
     "metadata": {},
     "output_type": "execute_result"
    }
   ],
   "source": [
    "from pynq import Overlay\n",
    "ol = Overlay(\"/home/xilinx/jupyter_notebooks/PYNQ_Dev/VinDevData/HAPI/hapi-des/des_hapi.bit\")\n",
    "\n",
    "ol.download()\n",
    "ol.bitstream.timestamp\n",
    "\n",
    "from pynq import PL\n",
    "PL.bitfile_name\n",
    "\n",
    "ol.is_loaded()"
   ]
  },
  {
   "cell_type": "code",
   "execution_count": 146,
   "metadata": {
    "collapsed": true
   },
   "outputs": [],
   "source": [
    "from pynq import MMIO\n",
    "  \n",
    "class hapiDES:\n",
    "    \"\"\"Brief description of Module goes here.\n",
    "    \n",
    "    Attributes\n",
    "    ----------\n",
    "    data : List of size2 (int or hex values) \n",
    "       Input Data for Encryption or Decryption: data[0] is MSB 32 bits and data [1] is LSB 32 bits\n",
    "    result_ENC_DEC : List of size2 (hex value) \n",
    "       Return results of Encryption or Decryption: result_ENC_DEC[0] is MSB 32 bits and result_ENC_DEC[1] is LSB 32 bits\n",
    "       \n",
    "   \"\"\"\n",
    "    mmio = MMIO(0x43C40000,0x00010000)\n",
    "    global result_ENC_DEC\n",
    "    result_ENC_DEC=[0,0]\n",
    "\n",
    "    def __init__(self):\n",
    "        self.mmio.write(0, 0)\n",
    "     \n",
    "    def reset_des_accel(self):\n",
    "        config_reg=0x80000001\n",
    "        mmio.write(0,config_reg)\n",
    "        print(\"DES ACCELERATOR RESET\")\n",
    "        config_reg=0x80000001\n",
    "        mmio.write(0,config_reg)\n",
    "\n",
    "    def des_status(self):\n",
    "        config_reg=mmio.read(0)\n",
    "        print(\"DES ACCEL STATUS\")\n",
    "        if config_reg==0x80000001:\n",
    "            print(\"RESET\")\n",
    "            print(\"MODE:ENCRYPT\")\n",
    "        elif config_reg==0x80000000:\n",
    "            print(\"RESET\")\n",
    "            print(\"MODE:DECRYPT\")\n",
    "        elif config_reg==0x00000000:\n",
    "            print(\"ACTIVE (NOT IN RESET)\")\n",
    "            print(\"MODE:DECRYPT\")\n",
    "        elif config_reg==0x00000001:\n",
    "            print(\"ACTIVE (NOT IN RESET)\")\n",
    "            print(\"MODE:ENCRYPT\")\n",
    "        else:\n",
    "            print(\"ERROR: NOT CONFIGURED PROPERLY --> SOMETHING IS WRONG\")\n",
    "    \n",
    "    def set_oper_encrypt(self):\n",
    "        config_reg=0x00000001\n",
    "        mmio.write(0,config_reg)\n",
    "        print(\"DES ACCELERATOR IS SET TO ENCRYPT\")\n",
    "        print(\"-->SET A NEW KEY OR WILL USE THE PREVIOUS SET KEY\")\n",
    "        \n",
    "    def set_oper_decrypt(self):\n",
    "        config_reg=0x00000000\n",
    "        mmio.write(0,config_reg)\n",
    "        print(\"DES ACCELERATOR IS SET TO DECRYPT\")\n",
    "        print(\"-->SET A NEW KEY OR WILL USE THE PREVIOUS SET KEY\")\n",
    "\n",
    "    def result(self):     \n",
    "        result_ENC_DEC[0]= hex(mmio.read(20))\n",
    "        result_ENC_DEC[1]= hex(mmio.read(24))\n",
    "        return result_ENC_DEC\n",
    "    \n",
    "    def set_key(self,data):\n",
    "        mmio.write(12,data[0])\n",
    "        mmio.write(16,data[1])\n",
    "        print(\"CRYPTO KEY UPDATED\")\n",
    " \n",
    "    def encrypt(self,data):    \n",
    "        mmio.write(4,data[0])\n",
    "        mmio.write(8,data[1])\n",
    "        self.result()\n",
    "        return result_ENC_DEC\n",
    "    \n",
    "    def decrypt(self,data):\n",
    "        mmio.write(4,data[0])\n",
    "        mmio.write(8,data[1])\n",
    "        self.result()\n",
    "        return result_ENC_DEC\n",
    " "
   ]
  },
  {
   "cell_type": "code",
   "execution_count": 147,
   "metadata": {
    "collapsed": false
   },
   "outputs": [
    {
     "name": "stdout",
     "output_type": "stream",
     "text": [
      "DES ACCELERATOR RESET\n",
      "DES ACCELERATOR IS SET TO ENCRYPT\n",
      "-->SET A NEW KEY OR WILL USE THE PREVIOUS SET KEY\n",
      "CRYPTO KEY UPDATED\n"
     ]
    },
    {
     "data": {
      "text/plain": [
       "['0xdbd44175', '0x8cd6a970']"
      ]
     },
     "execution_count": 147,
     "metadata": {},
     "output_type": "execute_result"
    }
   ],
   "source": [
    "import time\n",
    "import math\n",
    "from pynq import MMIO\n",
    "mmio = MMIO(0x43C40000,0x00010000)\n",
    "des=hapiDES()\n",
    "des.reset_des_accel()\n",
    "des.set_oper_encrypt()\n",
    "MyKey=[0xfdcb0,0x167cde]\n",
    "des.set_key(MyKey)\n",
    "input_data=[0xFE123410,0x12354567]\n",
    "des.encrypt(input_data)"
   ]
  },
  {
   "cell_type": "code",
   "execution_count": 148,
   "metadata": {
    "collapsed": false
   },
   "outputs": [
    {
     "name": "stdout",
     "output_type": "stream",
     "text": [
      "52\n",
      "INPUT\n",
      "['0x4c657420', '0x75732074', '0x72792074', '0x6f20656e', '0x63727970', '0x74207468', '0x6973']\n",
      "['0x4c657420', '0x75732074', '0x72792074', '0x6f20656e', '0x63727970', '0x74207468', '0x6973']\n",
      "--- 0.002146005630493164 seconds ---\n",
      "--- 1863.9280079991113 Blocks Per Second---\n",
      "['0x176c295', '0xd1470f4a', '0x6e8c69a9', '0xc3023084', '0x845b63ce', '0x9ec95823', '0xdedbc128', '0xb0042c0b']\n"
     ]
    }
   ],
   "source": [
    "import re\n",
    "import unicodedata\n",
    "def data_formatter(txt):\n",
    "    dataIn=''.join(hex(ord(x))[2:] for x in txt)\n",
    "    #print(dataIn)\n",
    "    print(len(dataIn))\n",
    "    vin=[]\n",
    "    for i in range(0,len(dataIn),8):\n",
    "        vin.append(''.join(map(str,dataIn[i:i+8])))\n",
    "    vin=['0x' + s for s in vin]\n",
    "    print(\"INPUT\")\n",
    "    print(vin)\n",
    "    vin_bc=vin\n",
    "    vin=[int(x,16) for x in vin]\n",
    "    if len(vin)%2!=0:\n",
    "        vin.append(0)\n",
    "    return vin,vin_bc\n",
    "\n",
    "#txt=\"\"\"I don't know why I do it...\n",
    "#I've nothing profound to say!\n",
    "#But late in the Night ..\n",
    "#I sit in the light..\n",
    "#Or Rather should I say\n",
    "#Watching rainbows around me, I scribble and scribble away...\"\"\"\n",
    "\n",
    "txt =\"Let us try to encrypt this\"\n",
    "data_2send,enc_in_hex=data_formatter(txt)\n",
    "print(enc_in_hex)\n",
    "cryptRes=[]\n",
    "j=0\n",
    "TOTAL_BLOCKS=len(data_2send)\n",
    "start_time = time.time()\n",
    "for i in range(0,len(data_2send),2):\n",
    "    cryptRes[j:j+1]=des.encrypt(data_2send[i:i+2])\n",
    "    j=j+2\n",
    "exec_time=time.time() - start_time\n",
    "print(\"--- %s seconds ---\" % (exec_time))\n",
    "print(\"--- %s Blocks Per Second---\" % ((math.pow(1, 1))*(TOTAL_BLOCKS/2)/exec_time))\n",
    "print(cryptRes)"
   ]
  },
  {
   "cell_type": "code",
   "execution_count": 149,
   "metadata": {
    "collapsed": false
   },
   "outputs": [
    {
     "name": "stdout",
     "output_type": "stream",
     "text": [
      "DES ACCELERATOR IS SET TO DECRYPT\n",
      "-->SET A NEW KEY OR WILL USE THE PREVIOUS SET KEY\n",
      "--- 0.002225637435913086 seconds ---\n",
      "--- 1797.2379217996786 Blocks Per Second---\n",
      "['0x4c657420', '0x75732074', '0x72792074', '0x6f20656e', '0x63727970', '0x74207468', '0x6973', '0x0']\n"
     ]
    }
   ],
   "source": [
    "des.set_oper_decrypt()\n",
    "decipher=[]\n",
    "j=0\n",
    "TOTAL_BLOCKS=len(cryptRes)\n",
    "cryptRes=[int(x,16) for x in cryptRes]\n",
    "#print(cryptRes)\n",
    "start_time = time.time()\n",
    "for i in range(0,len(cryptRes),2):\n",
    "    decipher[j:j+1]=des.decrypt(cryptRes[i:i+2])\n",
    "    j=j+2\n",
    "exec_time=time.time() - start_time\n",
    "print(\"--- %s seconds ---\" % (exec_time))\n",
    "print(\"--- %s Blocks Per Second---\" % ((math.pow(1, 1))*(TOTAL_BLOCKS/2)/exec_time))\n",
    "print(decipher)"
   ]
  },
  {
   "cell_type": "code",
   "execution_count": 150,
   "metadata": {
    "collapsed": false
   },
   "outputs": [
    {
     "name": "stdout",
     "output_type": "stream",
     "text": [
      "{'0x0'}\n"
     ]
    }
   ],
   "source": [
    "#bool(set(decipher) & set(enc_in_hex))\n",
    "print(set(decipher)^set(enc_in_hex))\n",
    "#print(x) for x,y in (decipher,enc_in_hex) if x!=y"
   ]
  },
  {
   "cell_type": "code",
   "execution_count": 151,
   "metadata": {
    "collapsed": false
   },
   "outputs": [
    {
     "name": "stdout",
     "output_type": "stream",
     "text": [
      "4c65742075732074727920746f20656e637279707420746869730\n",
      "Let us try to encrypt this\n"
     ]
    }
   ],
   "source": [
    "dec=(''.join(map(str,decipher)))\n",
    "dec=dec.replace(\"0x\",\"\")\n",
    "print(dec)\n",
    "ascii_string =''\n",
    "x = 0\n",
    "y = 2\n",
    "l = len(dec)\n",
    "while y <= l:\n",
    "    ascii_string += chr(int(dec[x:y], 16))\n",
    "    x += 2\n",
    "    y += 2\n",
    "print (ascii_string)"
   ]
  },
  {
   "cell_type": "code",
   "execution_count": null,
   "metadata": {
    "collapsed": false
   },
   "outputs": [],
   "source": []
  },
  {
   "cell_type": "code",
   "execution_count": null,
   "metadata": {
    "collapsed": true
   },
   "outputs": [],
   "source": []
  }
 ],
 "metadata": {
  "kernelspec": {
   "display_name": "Python 3",
   "language": "python",
   "name": "python3"
  },
  "language_info": {
   "codemirror_mode": {
    "name": "ipython",
    "version": 3
   },
   "file_extension": ".py",
   "mimetype": "text/x-python",
   "name": "python",
   "nbconvert_exporter": "python",
   "pygments_lexer": "ipython3",
   "version": "3.4.3+"
  }
 },
 "nbformat": 4,
 "nbformat_minor": 1
}
